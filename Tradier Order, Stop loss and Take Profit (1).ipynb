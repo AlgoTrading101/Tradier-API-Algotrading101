{
 "cells": [
  {
   "cell_type": "code",
   "execution_count": null,
   "metadata": {},
   "outputs": [],
   "source": [
    "import requests\n",
    "\n",
    "response = requests.post('https://api.tradier.com/v1/accounts/{account_id}/orders',\n",
    "    data={'class': 'equity', 'symbol': 'SPY', 'side': 'buy', 'quantity': '10', 'type': 'market', 'duration': 'day', 'price': '1.20', 'stop': '0.88', 'tag': 'my-tag-example-1'},\n",
    "    headers={'Authorization': 'Bearer <TOKEN>', 'Accept': 'application/json'}\n",
    ")\n",
    "json_response = response.json()\n",
    "print(response.status_code)\n",
    "print(json_response)"
   ]
  }
 ],
 "metadata": {
  "kernelspec": {
   "display_name": "Python 3",
   "language": "python",
   "name": "python3"
  },
  "language_info": {
   "codemirror_mode": {
    "name": "ipython",
    "version": 3
   },
   "file_extension": ".py",
   "mimetype": "text/x-python",
   "name": "python",
   "nbconvert_exporter": "python",
   "pygments_lexer": "ipython3",
   "version": "3.8.3"
  }
 },
 "nbformat": 4,
 "nbformat_minor": 4
}
