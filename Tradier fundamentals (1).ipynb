{
 "cells": [
  {
   "cell_type": "code",
   "execution_count": 2,
   "metadata": {},
   "outputs": [],
   "source": [
    "import requests"
   ]
  },
  {
   "cell_type": "code",
   "execution_count": 3,
   "metadata": {},
   "outputs": [
    {
     "name": "stdout",
     "output_type": "stream",
     "text": [
      "401\n",
      "{'fault': {'faultstring': 'Invalid API call as no apiproduct match found', 'detail': {'errorcode': 'keymanagement.service.InvalidAPICallAsNoApiProductMatchFound'}}}\n"
     ]
    }
   ],
   "source": [
    "response = requests.get('https://api.tradier.com/beta/markets/fundamentals/dividends',\n",
    "    params={'symbols': 'MSFT'},\n",
    "    headers={'Authorization': 'Bearer <TOKEN>', 'Accept': 'application/json'}\n",
    ")\n",
    "json_response = response.json()\n",
    "print(response.status_code)\n",
    "print(json_response)"
   ]
  }
 ],
 "metadata": {
  "kernelspec": {
   "display_name": "Python 3",
   "language": "python",
   "name": "python3"
  },
  "language_info": {
   "codemirror_mode": {
    "name": "ipython",
    "version": 3
   },
   "file_extension": ".py",
   "mimetype": "text/x-python",
   "name": "python",
   "nbconvert_exporter": "python",
   "pygments_lexer": "ipython3",
   "version": "3.8.3"
  }
 },
 "nbformat": 4,
 "nbformat_minor": 4
}
