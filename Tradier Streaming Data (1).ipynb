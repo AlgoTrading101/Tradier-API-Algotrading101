{
 "cells": [
  {
   "cell_type": "code",
   "execution_count": null,
   "metadata": {},
   "outputs": [],
   "source": [
    "import requests\n",
    "import json\n",
    "\n",
    "response = requests.post('https://api.tradier.com/v1/markets/events/session',\n",
    "    data={},\n",
    "    headers={'Authorization': 'Bearer <TOKEN>', 'Accept': 'application/json'}\n",
    ")\n",
    "json_response = response.json()\n",
    "print(response.status_code)\n",
    "print(json_response)"
   ]
  },
  {
   "cell_type": "code",
   "execution_count": null,
   "metadata": {},
   "outputs": [],
   "source": [
    "headers = {\n",
    "  'Accept': 'application/json'\n",
    "}\n",
    "\n",
    "payload = { \n",
    "  'sessionid': 'SESSION_ID',\n",
    "  'symbols': 'SPY',\n",
    "  'linebreak': True\n",
    "}\n",
    "\n",
    "r = requests.get('https://stream.tradier.com/v1/markets/events', stream=True, params=payload, headers=headers)\n",
    "for line in r.iter_lines():\n",
    "    if line:\n",
    "        print(json.loads(line))"
   ]
  }
 ],
 "metadata": {
  "kernelspec": {
   "display_name": "Python 3",
   "language": "python",
   "name": "python3"
  },
  "language_info": {
   "codemirror_mode": {
    "name": "ipython",
    "version": 3
   },
   "file_extension": ".py",
   "mimetype": "text/x-python",
   "name": "python",
   "nbconvert_exporter": "python",
   "pygments_lexer": "ipython3",
   "version": "3.8.3"
  }
 },
 "nbformat": 4,
 "nbformat_minor": 4
}
